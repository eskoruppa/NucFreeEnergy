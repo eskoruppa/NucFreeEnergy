{
 "cells": [
  {
   "cell_type": "code",
   "execution_count": 1,
   "metadata": {},
   "outputs": [],
   "source": [
    "import sys, os\n",
    "import numpy as np\n",
    "import scipy as sp\n",
    "import matplotlib.pyplot as plt\n",
    "import matplotlib.cm as cm\n",
    "from typing import List, Tuple, Callable, Any, Dict\n",
    "\n",
    "\n",
    "from methods.PolyCG.polycg.transforms.transform_marginals import send_to_back_permutation\n",
    "from methods.midstep_composites import midstep_composition_transformation, midstep_se3_groundstate\n",
    "from methods.midstep_composites import midstep_composition_transformation_correction\n",
    "from methods.read_nuc_data import read_nucleosome_triads, GenStiffness\n",
    "from methods.free_energy import calculate_midstep_triads, midstep_excess_vals\n",
    "\n",
    "\n",
    "# from methods.PolyCG.polycg.SO3 import so3\n",
    "# from methods.PolyCG.polycg.transforms.transform_SO3 import euler2rotmat_so3\n",
    "# from methods.PolyCG.polycg.cgnaplus import cgnaplus_bps_params\n",
    "# from methods.PolyCG.polycg.transforms.transform_algebra2group import algebra2group_lintrans, group2algebra_lintrans\n",
    "\n",
    "np.set_printoptions(linewidth=250,precision=5,suppress=True)"
   ]
  },
  {
   "cell_type": "code",
   "execution_count": 2,
   "metadata": {},
   "outputs": [],
   "source": [
    "triadfn = 'methods/State/Nucleosome.state'\n",
    "nuctriads = read_nucleosome_triads(triadfn)\n",
    "genstiff = GenStiffness(method='hybrid') \n",
    "\n",
    "midstep_constraint_locations = [\n",
    "    2, 6, 14, 17, 24, 29, \n",
    "    34, 38, 45, 49, 55, 59, \n",
    "    65, 69, 76, 80, 86, 90, \n",
    "    96, 100, 107, 111, 116, 121, \n",
    "    128, 131, 139, 143\n",
    "]"
   ]
  },
  {
   "cell_type": "markdown",
   "metadata": {},
   "source": [
    "### Midstep Locations"
   ]
  },
  {
   "cell_type": "code",
   "execution_count": 3,
   "metadata": {},
   "outputs": [
    {
     "name": "stdout",
     "output_type": "stream",
     "text": [
      "19\n",
      "[17, 24, 29, 34, 38, 45, 49, 55, 59, 65, 69, 76, 80, 86, 90, 96, 100, 107, 111]\n"
     ]
    }
   ],
   "source": [
    "def get_midstep_locations(left_open: int, right_open: int):\n",
    "    MIDSTEP_LOCATIONS = [\n",
    "        2, 6, 14, 17, 24, 29, \n",
    "        34, 38, 45, 49, 55, 59, \n",
    "        65, 69, 76, 80, 86, 90, \n",
    "        96, 100, 107, 111, 116, 121, \n",
    "        128, 131, 139, 143\n",
    "    ]\n",
    "    if left_open + right_open > len(MIDSTEP_LOCATIONS):\n",
    "        return []\n",
    "    return MIDSTEP_LOCATIONS[left_open:len(MIDSTEP_LOCATIONS)-right_open]\n",
    "    \n",
    "mid_locs = get_midstep_locations(3,6)\n",
    "print(len(mid_locs))\n",
    "print(mid_locs)"
   ]
  },
  {
   "cell_type": "markdown",
   "metadata": {},
   "source": [
    "### Diagonal Matrices"
   ]
  },
  {
   "cell_type": "code",
   "execution_count": 4,
   "metadata": {},
   "outputs": [],
   "source": [
    "def get_block_diag(stiffs: np.ndarray, dim: int = 6, left_open: int = 0, right_open: int = 0):\n",
    "    if left_open + right_open > len(stiffs):\n",
    "        return []\n",
    "    right_id = len(stiffs)- right_open\n",
    "    mddim = (len(stiffs)-left_open-right_open)*dim\n",
    "    M = np.zeros((mddim,mddim))\n",
    "    for i in range(len(stiffs)-left_open-right_open):\n",
    "        M[i*dim:(i+1)*dim,i*dim:(i+1)*dim] = stiffs[i+left_open]\n",
    "    return M\n",
    "\n",
    "def set_block_diag(M: np.ndarray,dim: int = 6):\n",
    "    M_diag = np.zeros(M.shape)\n",
    "    for i in range(len(M)//dim):\n",
    "        M_diag[i*dim:(i+1)*dim,i*dim:(i+1)*dim] = M[i*dim:(i+1)*dim,i*dim:(i+1)*dim]\n",
    "    return M_diag\n",
    "\n",
    "def select_partial(M, dim: int = 6, left_open: int = 0, right_open: int = 0, marginalize=True):\n",
    "    n = len(M)//dim\n",
    "    if marginalize:\n",
    "        return np.linalg.inv(np.linalg.inv(M)[left_open*dim:(n-right_open)*dim,left_open*dim:(n-right_open)*dim])\n",
    "    return M[left_open*dim:(n-right_open)*dim,left_open*dim:(n-right_open)*dim]"
   ]
  },
  {
   "cell_type": "markdown",
   "metadata": {},
   "source": [
    "### Load K matrix"
   ]
  },
  {
   "cell_type": "code",
   "execution_count": 5,
   "metadata": {},
   "outputs": [],
   "source": [
    "fn = 'MDParams/Kmat_nucleosome.npy'\n",
    "K = np.load(fn)"
   ]
  },
  {
   "cell_type": "markdown",
   "metadata": {},
   "source": [
    "### Calculate Free Energy"
   ]
  },
  {
   "cell_type": "code",
   "execution_count": 6,
   "metadata": {},
   "outputs": [
    {
     "data": {
      "text/plain": [
       "{'F': 1734.7159827882572,\n",
       " 'F_entropy': 1694.6287603159,\n",
       " 'F_enthalpy': 40.0872224723571,\n",
       " 'F_jacob': -62.03455317321442,\n",
       " 'F_free': 1657.6086060360667,\n",
       " 'Fdiff': 77.10737675219048}"
      ]
     },
     "execution_count": 6,
     "metadata": {},
     "output_type": "execute_result"
    }
   ],
   "source": [
    "\n",
    "def nucleosome_free_energy(\n",
    "    groundstate: np.ndarray,\n",
    "    stiffmat: np.ndarray,    \n",
    "    left_open: int,\n",
    "    right_open: int,\n",
    "    nucleosome_triads: np.ndarray,\n",
    "    K: np.ndarray,\n",
    "    use_correction: bool = True,\n",
    ") -> np.ndarray:\n",
    "\n",
    "    midstep_constraint_locations = get_midstep_locations(left_open, right_open)\n",
    "\n",
    "    if len(midstep_constraint_locations) <= 1:\n",
    "        n = len(stiffmat)\n",
    "        F_pi = -0.5*n * np.log(2*np.pi)\n",
    "        # matrix term\n",
    "        logdet_sign, logdet = np.linalg.slogdet(stiffmat)\n",
    "        F_mat = 0.5*logdet\n",
    "        F = F_mat + F_pi  \n",
    "        Fdict = {\n",
    "            'F': F,\n",
    "            'F_entropy' : F,\n",
    "            'F_enthalpy': 0,\n",
    "            'F_jacob'   : 0,\n",
    "            'F_free'    : F,\n",
    "            'F_diff'     : 0\n",
    "        }\n",
    "        return Fdict\n",
    "    \n",
    "    midstep_constraint_locations = sorted(list(set(midstep_constraint_locations)))\n",
    "\n",
    "    midstep_triads = calculate_midstep_triads(\n",
    "        midstep_constraint_locations,\n",
    "        nucleosome_triads\n",
    "    )\n",
    "    \n",
    "    # find contraint excess values\n",
    "    excess_vals = midstep_excess_vals(\n",
    "        groundstate,\n",
    "        midstep_constraint_locations,\n",
    "        midstep_triads\n",
    "    )  \n",
    "    C = excess_vals.flatten()\n",
    "        \n",
    "    # find composite transformation\n",
    "    transform, replaced_ids = midstep_composition_transformation(\n",
    "        groundstate,\n",
    "        midstep_constraint_locations\n",
    "    )\n",
    "    \n",
    "    # transform stiffness matrix\n",
    "    inv_transform = np.linalg.inv(transform)\n",
    "    stiffmat_transformed = inv_transform.T @ stiffmat @ inv_transform\n",
    "    \n",
    "    # rearrange stiffness matrix\n",
    "    full_replaced_ids = list()\n",
    "    for i in range(len(replaced_ids)):\n",
    "        full_replaced_ids += [6*replaced_ids[i]+j for j in range(6)]\n",
    "     \n",
    "    P = send_to_back_permutation(len(stiffmat),full_replaced_ids)\n",
    "    stiffmat_rearranged = P @ stiffmat_transformed @ P.T\n",
    "\n",
    "    # select fluctuating, constraint and coupling part of matrix\n",
    "    N  = len(stiffmat)\n",
    "    NC = len(full_replaced_ids)\n",
    "    NF = N-NC\n",
    "    \n",
    "    MF = stiffmat_rearranged[:NF,:NF]\n",
    "    MC = stiffmat_rearranged[NF:,NF:]\n",
    "    MM = stiffmat_rearranged[NF:,:NF]\n",
    "    \n",
    "    MFi = np.linalg.inv(MF)\n",
    "    b = MM.T @ C\n",
    "    \n",
    "    ########################################\n",
    "    ########################################\n",
    "    if use_correction:\n",
    "        alpha = -MFi @ b\n",
    "        \n",
    "        gs_transf_perm = np.concatenate((alpha,C))\n",
    "        gs_transf = P.T @ gs_transf_perm\n",
    "        gs = inv_transform @ gs_transf\n",
    "    \n",
    "        gs = gs.reshape((len(gs)//6,6))\n",
    "        # find composite transformation\n",
    "        transform, replaced_ids = midstep_composition_transformation_correction(\n",
    "            groundstate,\n",
    "            midstep_constraint_locations,\n",
    "            -gs\n",
    "        )\n",
    "        \n",
    "        # transform stiffness matrix\n",
    "        inv_transform = np.linalg.inv(transform)\n",
    "        stiffmat_transformed = inv_transform.T @ stiffmat @ inv_transform\n",
    "        \n",
    "        stiffmat_rearranged = P @ stiffmat_transformed @ P.T\n",
    "\n",
    "        # select fluctuating, constraint and coupling part of matrix\n",
    "        N  = len(stiffmat)\n",
    "        NC = len(full_replaced_ids)\n",
    "        NF = N-NC\n",
    "        \n",
    "        MF = stiffmat_rearranged[:NF,:NF]\n",
    "        MC = stiffmat_rearranged[NF:,NF:]\n",
    "        MM = stiffmat_rearranged[NF:,:NF]\n",
    "        \n",
    "        MFi = np.linalg.inv(MF)\n",
    "        b = MM.T @ C\n",
    "    \n",
    "    ########################################\n",
    "    ########################################\n",
    "    \n",
    "    # constant energies\n",
    "    F_const_C =  0.5 * C.T @ MC @ C\n",
    "    F_const_b = -0.5 * b.T @ MFi @ b\n",
    "    \n",
    "    F_enthalpy = F_const_C + F_const_b\n",
    "    \n",
    "    \n",
    "    K_partial = select_partial(K,left_open=left_open,right_open=right_open)\n",
    "    Mtot_k = np.copy(stiffmat_rearranged)\n",
    "    Mtot_k[NF:,NF:] += K_partial\n",
    "    \n",
    "    # print(stiffmat_rearranged[NF:NF+6,NF:NF+6])\n",
    "    # print(Mtot_k[NF:NF+6,NF:NF+6])\n",
    "    \n",
    "    \n",
    "    # entropy term\n",
    "    n = len(Mtot_k)\n",
    "    logdet_sign, logdet = np.linalg.slogdet(Mtot_k)\n",
    "    F_pi = -0.5*n * np.log(2*np.pi)\n",
    "    # matrix term\n",
    "    F_mat = 0.5*logdet\n",
    "    F_entropy = F_pi + F_mat\n",
    "    F_jacob = np.log(np.linalg.det(transform))\n",
    "    \n",
    "    # free energy of unconstrained DNA\n",
    "    ff_logdet_sign, ff_logdet = np.linalg.slogdet(stiffmat)\n",
    "    ff_pi = -0.5*len(stiffmat) * np.log(2*np.pi)\n",
    "    F_free = 0.5*ff_logdet + ff_pi\n",
    "     \n",
    "    # prepare output\n",
    "    Fdict = {\n",
    "        'F': F_entropy + F_jacob + F_enthalpy,\n",
    "        'F_entropy' : F_entropy + F_jacob,\n",
    "        'F_enthalpy': F_enthalpy,\n",
    "        'F_jacob'   : F_jacob,\n",
    "        'F_free'    : F_free,\n",
    "        'F_diff'     : F_entropy + F_jacob + F_enthalpy - F_free\n",
    "    }\n",
    "    return Fdict\n",
    "        \n",
    "\n",
    "left_open  = 12\n",
    "right_open = 0       \n",
    "   \n",
    "   \n",
    "seq = \"ATCAATATCCACCTGCAGATACTACCAAAAGTGTATTTGGAAACTGCTCCATCAAAAGGCATGTTCAGCTGGAATCCAGCTGAACATGCCTTTTGATGGAGCAGTTTCCAAATACACTTTTGGTAGTATCTGCAGGTGGATATTGAT\"  \n",
    "stiffmat,groundstate = genstiff.gen_params(seq,use_group=True)\n",
    "        \n",
    "nucleosome_free_energy(groundstate,stiffmat,left_open,right_open,nuctriads,K)"
   ]
  },
  {
   "cell_type": "code",
   "execution_count": 7,
   "metadata": {},
   "outputs": [
    {
     "name": "stdout",
     "output_type": "stream",
     "text": [
      "F        F_enth  F_entr\n",
      "126.86   63.69   63.17\n",
      "121.56   61.50   60.06\n",
      "113.52   57.15   56.37\n",
      "104.86   52.09   52.77\n",
      "94.91   46.66   48.25\n",
      "84.61   42.39   42.22\n",
      "75.53   38.25   37.27\n",
      "67.20   35.14   32.07\n",
      "56.44   30.07   26.37\n",
      "45.73   24.53   21.20\n",
      "32.67   18.05   14.61\n",
      "22.35   11.26   11.09\n",
      "10.39   4.64   5.75\n",
      "3.07   0.87   2.20\n",
      "0.00   0.00   0.00\n",
      "F        F_enth  F_entr\n",
      "126.86   63.69   63.17\n",
      "119.64   61.32   58.32\n",
      "110.10   56.66   53.44\n",
      "100.81   51.11   49.70\n",
      "88.26   43.61   44.65\n",
      "75.17   36.21   38.96\n",
      "65.11   32.25   32.86\n",
      "55.07   27.31   27.76\n",
      "46.11   23.72   22.40\n",
      "36.44   18.96   17.48\n",
      "27.34   15.52   11.82\n",
      "17.47   9.45   8.02\n",
      "8.00   4.34   3.66\n",
      "1.57   0.87   0.70\n",
      "0.00   0.00   0.00\n"
     ]
    }
   ],
   "source": [
    "fn = 'MDParams/Kmat_nucleosome.npy'\n",
    "K = np.load(fn)\n",
    "\n",
    "# calibration sequences\n",
    "seq601 = \"ATCAATATCCACCTGCAGATACTACCAAAAGTGTATTTGGAAACTGCTCCATCAAAAGGCATGTTCAGCTGGAATCCAGCTGAACATGCCTTTTGATGGAGCAGTTTCCAAATACACTTTTGGTAGTATCTGCAGGTGGATATTGAT\"\n",
    "seq601 = \"CTGGAGAATCCCGGTGCCGAGGCCGCTCAATTGGTCGTAGACAGCTCTAGCACCGCTTAAACGCACGTACGCGCTGTCCCCCGCGTTTTAACCGCCAAGGGGATTACTCCCTAGTCTCCAGGCACGTGTCAGATATATACATCCTGT\"\n",
    "\n",
    "# seq = ''.join(['ATCG'[np.random.randint(4)] for i in range(147)])\n",
    "seq = seq601 \n",
    "stiffmat,groundstate = genstiff.gen_params(seq,use_group=True)\n",
    "\n",
    "\n",
    "Flefts  = []\n",
    "Frights = []\n",
    "\n",
    "print('F        F_enth  F_entr')\n",
    "for i in range(15):\n",
    "    left_open  = i*2 \n",
    "    right_open = 0  \n",
    "    \n",
    "    K_resc = np.copy(K)\n",
    "    Fdict = nucleosome_free_energy(groundstate,stiffmat,left_open,right_open,nuctriads,K_resc)\n",
    "    print('%.2f   %.2f   %.2f'%(Fdict['F']-Fdict['F_free'],Fdict['F_enthalpy'],Fdict['F_entropy']-Fdict['F_free']))\n",
    "    \n",
    "    Flefts.append(Fdict)\n",
    "\n",
    "print('F        F_enth  F_entr')\n",
    "for i in range(15):\n",
    "    left_open  = 0\n",
    "    right_open = i*2   \n",
    "    \n",
    "    K_resc = np.copy(K)\n",
    "    Fdict = nucleosome_free_energy(groundstate,stiffmat,left_open,right_open,nuctriads,K_resc)\n",
    "    print('%.2f   %.2f   %.2f'%(Fdict['F']-Fdict['F_free'],Fdict['F_enthalpy'],Fdict['F_entropy']-Fdict['F_free']))\n",
    "    \n",
    "    Frights.append(Fdict)"
   ]
  },
  {
   "cell_type": "markdown",
   "metadata": {},
   "source": [
    "### Load and prep AFM data"
   ]
  },
  {
   "cell_type": "code",
   "execution_count": 8,
   "metadata": {},
   "outputs": [],
   "source": [
    "def load_konrad_breathing(fn):\n",
    "    main_occups = np.loadtxt(fn)[:,1]\n",
    "    lefts  = main_occups[0::2]\n",
    "    rights = main_occups[1::2]\n",
    "\n",
    "    allleft = main_occups[0]\n",
    "    allright = main_occups[1]\n",
    "    bound = 1 - np.sum(main_occups[2:])\n",
    "    lefts[0] = bound\n",
    "    rights[0] = bound\n",
    "    \n",
    "    data = np.zeros((2,len(main_occups)//2))\n",
    "    \n",
    "    print(data.shape)\n",
    "    print(lefts.shape)\n",
    "    \n",
    "    data[0] = lefts\n",
    "    data[1] = rights\n",
    "    return data\n"
   ]
  },
  {
   "cell_type": "code",
   "execution_count": 9,
   "metadata": {},
   "outputs": [
    {
     "name": "stdout",
     "output_type": "stream",
     "text": [
      "(2, 8)\n",
      "(8,)\n"
     ]
    }
   ],
   "source": [
    "mainfn = '../Refs/Konrad_CENPA/asym_main'\n",
    "maindata = load_konrad_breathing(mainfn)"
   ]
  },
  {
   "cell_type": "markdown",
   "metadata": {},
   "source": [
    "### Plot Main data Hist"
   ]
  },
  {
   "cell_type": "code",
   "execution_count": 10,
   "metadata": {},
   "outputs": [
    {
     "name": "stderr",
     "output_type": "stream",
     "text": [
      "/usr/lib/python3/dist-packages/matplotlib/ticker.py:2788: RuntimeWarning: invalid value encountered in log10\n",
      "  majorstep_no_exponent = 10 ** (np.log10(majorstep) % 1)\n"
     ]
    },
    {
     "data": {
      "image/png": "[encoded data removed]",
      "text/plain": [
       "<Figure size 864x288 with 2 Axes>"
      ]
     },
     "metadata": {
      "needs_background": "light"
     },
     "output_type": "display_data"
    }
   ],
   "source": [
    "cgreen = '#c8eabe'\n",
    "\n",
    "dist = 5\n",
    "pos = np.arange(0,len(maindata[0]))*(-dist)\n",
    "\n",
    "# Set the width of bars\n",
    "bar_width = 3  # Adjust as needed\n",
    "\n",
    "# Create the figure and axis\n",
    "fig, ax = plt.subplots(figsize=(12, 4))\n",
    "\n",
    "ax1 = plt.subplot2grid(shape=(1, 2), loc=(0, 0))\n",
    "plt.minorticks_on() \n",
    "ax2 = plt.subplot2grid(shape=(1, 2), loc=(0, 1))\n",
    "plt.minorticks_on()\n",
    "\n",
    "ax = ax1\n",
    "# Plot histogram bars\n",
    "ax.bar(pos, maindata[0], width=bar_width, color=cgreen, alpha=0.6, edgecolor='black')\n",
    "\n",
    "# Labels and title\n",
    "ax.set_xlabel(\"Wrapping [bp]\")\n",
    "ax.set_ylabel(\"Relative Frequency\")\n",
    "\n",
    "# Adjust x-ticks for better readability\n",
    "ax.set_xticks(pos)\n",
    "ax.set_xlim([np.max(pos)+dist*0.6,np.min(pos)-dist*0.6])\n",
    "\n",
    "\n",
    "ax = ax2\n",
    "# Plot histogram bars\n",
    "ax.bar(pos, maindata[1], width=bar_width, color='gray', alpha=0.7, edgecolor='black')\n",
    "\n",
    "# Labels and title\n",
    "ax.set_xlabel(\"Wrapping [bp]\")\n",
    "ax.set_ylabel(\"Relative Frequency\")\n",
    "\n",
    "# Adjust x-ticks for better readability\n",
    "ax.set_xticks(pos)\n",
    "ax.set_xlim([np.max(pos)+dist*0.6,np.min(pos)-dist*0.6])\n",
    "\n",
    "# Show the plot\n",
    "plt.show()\n"
   ]
  },
  {
   "cell_type": "markdown",
   "metadata": {},
   "source": [
    "### Reshuffle hists"
   ]
  },
  {
   "cell_type": "code",
   "execution_count": 11,
   "metadata": {},
   "outputs": [
    {
     "name": "stdout",
     "output_type": "stream",
     "text": [
      "[0.28189 0.06081 0.13567 0.18709]\n"
     ]
    }
   ],
   "source": [
    "left_binds = np.array([maindata[0,2*i] + maindata[0,2*i+1] for i in range(len(maindata[0])//2)])\n",
    "right_binds = np.array([maindata[1,2*i] + maindata[1,2*i+1] for i in range(len(maindata[1])//2)])\n",
    "\n",
    "print(right_binds)"
   ]
  },
  {
   "cell_type": "markdown",
   "metadata": {},
   "source": [
    "### Plot Reshuffled"
   ]
  },
  {
   "cell_type": "code",
   "execution_count": 12,
   "metadata": {},
   "outputs": [
    {
     "data": {
      "image/png": "[encoded data removed]",
      "text/plain": [
       "<Figure size 864x288 with 2 Axes>"
      ]
     },
     "metadata": {
      "needs_background": "light"
     },
     "output_type": "display_data"
    }
   ],
   "source": [
    "dist = 10\n",
    "posres = np.arange(0,len(left_binds))*(-dist)-3\n",
    "\n",
    "# Set the width of bars\n",
    "bar_width = 8  # Adjust as needed\n",
    "\n",
    "# Create the figure and axis\n",
    "fig, ax = plt.subplots(figsize=(12, 4))\n",
    "\n",
    "ax1 = plt.subplot2grid(shape=(1, 2), loc=(0, 0))\n",
    "plt.minorticks_on() \n",
    "ax2 = plt.subplot2grid(shape=(1, 2), loc=(0, 1))\n",
    "plt.minorticks_on()\n",
    "\n",
    "ax = ax1\n",
    "# Plot histogram bars\n",
    "ax.bar(posres, left_binds, width=bar_width, color=cgreen, alpha=0.6, edgecolor='black')\n",
    "\n",
    "# Labels and title\n",
    "ax.set_xlabel(\"Wrapping [bp]\")\n",
    "ax.set_ylabel(\"Relative Frequency\")\n",
    "\n",
    "# Adjust x-ticks for better readability\n",
    "ax.set_xticks(pos)\n",
    "ax.set_xlim([np.max(pos)+dist*0.6,np.min(pos)-dist*0.6])\n",
    "\n",
    "\n",
    "ax = ax2\n",
    "# Plot histogram bars\n",
    "ax.bar(posres, right_binds, width=bar_width, color='gray', alpha=0.7, edgecolor='black')\n",
    "\n",
    "# Labels and title\n",
    "ax.set_xlabel(\"Wrapping [bp]\")\n",
    "ax.set_ylabel(\"Relative Frequency\")\n",
    "\n",
    "# Adjust x-ticks for better readability\n",
    "ax.set_xticks(pos)\n",
    "ax.set_xlim([np.max(pos)+dist*0.6,np.min(pos)-dist*0.6])\n",
    "\n",
    "# Show the plot\n",
    "plt.show()\n"
   ]
  },
  {
   "cell_type": "markdown",
   "metadata": {},
   "source": [
    "### Boltzmann invert"
   ]
  },
  {
   "cell_type": "code",
   "execution_count": 13,
   "metadata": {},
   "outputs": [],
   "source": [
    "left = left_binds / np.sum(left_binds)\n",
    "right = right_binds / np.sum(right_binds)\n",
    "\n",
    "left_fe = -np.log(left)\n",
    "right_fe = -np.log(right)\n",
    "\n",
    "left_fe -= left_fe[0]\n",
    "right_fe -= right_fe[0]\n"
   ]
  },
  {
   "cell_type": "markdown",
   "metadata": {},
   "source": [
    "### Plot Free Energy"
   ]
  },
  {
   "cell_type": "code",
   "execution_count": 14,
   "metadata": {},
   "outputs": [
    {
     "name": "stderr",
     "output_type": "stream",
     "text": [
      "/usr/lib/python3/dist-packages/matplotlib/ticker.py:2788: RuntimeWarning: invalid value encountered in log10\n",
      "  majorstep_no_exponent = 10 ** (np.log10(majorstep) % 1)\n"
     ]
    },
    {
     "data": {
      "image/png": "[encoded data removed]",
      "text/plain": [
       "<Figure size 864x288 with 2 Axes>"
      ]
     },
     "metadata": {
      "needs_background": "light"
     },
     "output_type": "display_data"
    }
   ],
   "source": [
    "dist = 10\n",
    "posres = np.arange(0,len(left_fe))*(-dist)\n",
    "\n",
    "# Create the figure and axis\n",
    "fig, ax = plt.subplots(figsize=(12, 4))\n",
    "\n",
    "ax1 = plt.subplot2grid(shape=(1, 2), loc=(0, 0))\n",
    "plt.minorticks_on() \n",
    "ax2 = plt.subplot2grid(shape=(1, 2), loc=(0, 1))\n",
    "plt.minorticks_on()\n",
    "\n",
    "ax = ax1\n",
    "# Plot histogram bars\n",
    "ax.plot(posres,left_fe,lw=3,color=cgreen, alpha=1)\n",
    "\n",
    "# Labels and title\n",
    "ax.set_xlabel(\"Wrapping [bp]\")\n",
    "ax.set_ylabel(\"Free Energy\")\n",
    "\n",
    "# Adjust x-ticks for better readability\n",
    "ax.set_xticks(posres)\n",
    "ax.set_xlim([np.max(posres)+dist*0.6,np.min(posres)-dist*0.6])\n",
    "\n",
    "\n",
    "ax = ax2\n",
    "# Plot histogram bars\n",
    "ax.plot(posres,right_fe,lw=3,color='gray', alpha=0.7)\n",
    "\n",
    "# Labels and title\n",
    "ax.set_xlabel(\"Wrapping [bp]\")\n",
    "ax.set_ylabel(\"Free Energy\")\n",
    "\n",
    "# Adjust x-ticks for better readability\n",
    "ax.set_xticks(posres)\n",
    "ax.set_xlim([np.max(posres)+dist*0.6,np.min(posres)-dist*0.6])\n",
    "\n",
    "# Show the plot\n",
    "plt.show()"
   ]
  },
  {
   "cell_type": "markdown",
   "metadata": {},
   "source": [
    "### Compare left theory with measurement"
   ]
  },
  {
   "cell_type": "code",
   "execution_count": 20,
   "metadata": {},
   "outputs": [
    {
     "name": "stdout",
     "output_type": "stream",
     "text": [
      "126.86084374744178\n",
      "121.563530751072\n",
      "113.51855675869388\n",
      "104.86304888944824\n",
      "94.90978223102343\n",
      "84.6079061422281\n",
      "75.52540456785937\n",
      "67.20354271849874\n",
      "56.439373643894214\n",
      "45.731266726196736\n",
      "32.66740259757967\n",
      "22.350019896525282\n",
      "10.39361252719118\n",
      "3.0701129774863603\n"
     ]
    },
    {
     "ename": "KeyError",
     "evalue": "'Fdiff'",
     "output_type": "error",
     "traceback": [
      "\u001b[0;31m---------------------------------------------------------------------------\u001b[0m",
      "\u001b[0;31mKeyError\u001b[0m                                  Traceback (most recent call last)",
      "\u001b[0;32m/tmp/ipykernel_105057/1679023386.py\u001b[0m in \u001b[0;36m<module>\u001b[0;34m\u001b[0m\n\u001b[1;32m      3\u001b[0m \u001b[0;34m\u001b[0m\u001b[0m\n\u001b[1;32m      4\u001b[0m \u001b[0;32mfor\u001b[0m \u001b[0mfl\u001b[0m \u001b[0;32min\u001b[0m \u001b[0mFlefts\u001b[0m\u001b[0;34m:\u001b[0m\u001b[0;34m\u001b[0m\u001b[0;34m\u001b[0m\u001b[0m\n\u001b[0;32m----> 5\u001b[0;31m     \u001b[0mprint\u001b[0m\u001b[0;34m(\u001b[0m\u001b[0mfl\u001b[0m\u001b[0;34m[\u001b[0m\u001b[0;34m'Fdiff'\u001b[0m\u001b[0;34m]\u001b[0m\u001b[0;34m)\u001b[0m\u001b[0;34m\u001b[0m\u001b[0;34m\u001b[0m\u001b[0m\n\u001b[0m\u001b[1;32m      6\u001b[0m \u001b[0;34m\u001b[0m\u001b[0m\n\u001b[1;32m      7\u001b[0m \u001b[0;31m# print(Flefts[0]['Fdiff'])\u001b[0m\u001b[0;34m\u001b[0m\u001b[0;34m\u001b[0m\u001b[0m\n",
      "\u001b[0;31mKeyError\u001b[0m: 'Fdiff'"
     ]
    }
   ],
   "source": [
    "# thfe_left = np.array([fl['Fdiff'] for fl in Flefts])\n",
    "# print(thfe_left)\n",
    "\n",
    "for fl in Flefts:\n",
    "    print(fl['Fdiff'])\n",
    "\n",
    "# print(Flefts[0]['Fdiff'])\n",
    "# print(Flefts[1]['Fdiff'])"
   ]
  }
 ],
 "metadata": {
  "kernelspec": {
   "display_name": "Python 3",
   "language": "python",
   "name": "python3"
  },
  "language_info": {
   "codemirror_mode": {
    "name": "ipython",
    "version": 3
   },
   "file_extension": ".py",
   "mimetype": "text/x-python",
   "name": "python",
   "nbconvert_exporter": "python",
   "pygments_lexer": "ipython3",
   "version": "3.10.12"
  }
 },
 "nbformat": 4,
 "nbformat_minor": 2
}
